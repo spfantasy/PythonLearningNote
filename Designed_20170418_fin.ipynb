{
 "cells": [
  {
   "cell_type": "markdown",
   "metadata": {},
   "source": [
    "# CIFAR-10 -> Designed"
   ]
  },
  {
   "cell_type": "markdown",
   "metadata": {},
   "source": [
    "The CIFAR-10 dataset consists of\n",
    "\n",
    "60000 32x32 colour images in 10 classes\n",
    "\n",
    "with 6000 images per class\n",
    "\n",
    "There are 50000 training images and 10000 test images. "
   ]
  },
  {
   "cell_type": "code",
   "execution_count": 1,
   "metadata": {
    "collapsed": true
   },
   "outputs": [],
   "source": [
    "import tensorflow as tf\n",
    "import numpy as np\n",
    "%matplotlib inline\n",
    "import matplotlib.pyplot as plt\n",
    "import time"
   ]
  },
  {
   "cell_type": "code",
   "execution_count": 2,
   "metadata": {
    "collapsed": true
   },
   "outputs": [],
   "source": [
    "from cifar10_read import *"
   ]
  },
  {
   "cell_type": "markdown",
   "metadata": {},
   "source": [
    "### parameters"
   ]
  },
  {
   "cell_type": "code",
   "execution_count": 3,
   "metadata": {
    "collapsed": true
   },
   "outputs": [],
   "source": [
    "TRAIN_SIZE = 50000\n",
    "TEST_SIZE = 10000\n",
    "BATCH_SIZE = 128"
   ]
  },
  {
   "cell_type": "markdown",
   "metadata": {},
   "source": [
    "### ops for settings"
   ]
  },
  {
   "cell_type": "markdown",
   "metadata": {},
   "source": [
    "layer1: 32x32x3"
   ]
  },
  {
   "cell_type": "code",
   "execution_count": 4,
   "metadata": {},
   "outputs": [
    {
     "name": "stdout",
     "output_type": "stream",
     "text": [
      "(?, 32, 32, 3)\n",
      "(?, 10)\n"
     ]
    }
   ],
   "source": [
    "# Graph input:\n",
    "x = tf.placeholder(tf.float32, [None, 32, 32, 3], name='InputData')\n",
    "# Graph input:\n",
    "x_preprocessed = tf.placeholder(tf.float32, [None, 32, 32, 3], name='InputData_preprocessed')\n",
    "# 0-9 digits recognition => 10 classes\n",
    "y_ = tf.placeholder(tf.float32, [None, 10], name='LabelData')\n",
    "# training ? testing\n",
    "status = tf.placeholder(tf.bool, [], name='status')\n",
    "print(x.shape)\n",
    "print(y_.shape)"
   ]
  },
  {
   "cell_type": "code",
   "execution_count": 5,
   "metadata": {
    "collapsed": true
   },
   "outputs": [],
   "source": [
    "learning_rate = tf.placeholder(tf.float32, [], name='learning_rate')\n",
    "weight_stddev = tf.placeholder(tf.float32, [], name='weight_stddev')"
   ]
  },
  {
   "cell_type": "markdown",
   "metadata": {},
   "source": [
    "### functions to initialize varibles"
   ]
  },
  {
   "cell_type": "code",
   "execution_count": 6,
   "metadata": {
    "collapsed": true
   },
   "outputs": [],
   "source": [
    "# shortcut for b(bias)\n",
    "def bias_variable(shape):\n",
    "    initial = tf.constant(0.0, shape=shape)\n",
    "    return tf.Variable(initial)\n",
    "# shortcut for convolution\n",
    "def conv2d(x, W):\n",
    "    return tf.nn.conv2d(x, W, strides=[1, 1, 1, 1], padding='SAME')\n",
    "# shortcut for convolution layer\n",
    "def convlayer(input_layer,name,shape,status):\n",
    "    W_conv_layer = tf.get_variable('W_' + name, shape=shape,initializer=tf.contrib.layers.xavier_initializer())\n",
    "    b_conv_layer = bias_variable([shape[-1]])\n",
    "    conv_layer = conv2d(input_layer, W_conv_layer)+b_conv_layer\n",
    "    conv_layer = tf.layers.batch_normalization( inputs=conv_layer, axis=-1, momentum=0.9, epsilon=0.001, \n",
    "                                               center=True, scale=True, training = status, name = name + '_bn')\n",
    "    conv_layer = tf.nn.relu(conv_layer)\n",
    "    print(conv_layer.shape)\n",
    "    return conv_layer\n",
    "# shortcut for max_pooling layer\n",
    "def max_pool(conv):\n",
    "    return tf.nn.max_pool(conv,ksize=[1,2,2,1],strides=[1,2,2,1],padding='VALID')\n",
    "# shortcut for fully_connected layer\n",
    "def fclayer(input_layer,name,shape,keep_prob):\n",
    "    W_fclayer = tf.get_variable(\"W_\"+name, shape=shape,initializer=tf.contrib.layers.xavier_initializer())\n",
    "    b_fclayer = bias_variable([shape[-1]])\n",
    "    fclayer = tf.nn.relu(tf.matmul(input_layer, W_fclayer)+b_fclayer)\n",
    "    fclayer = tf.nn.dropout(fclayer, keep_prob)\n",
    "    print(fclayer.shape)\n",
    "    return fclayer\n",
    "# shortcut for randomnize training set\n",
    "def shuffle(a, b):\n",
    "    assert len(a) == len(b)\n",
    "    p = np.random.permutation(len(a))\n",
    "    return a[p], b[p]\n",
    "# shortcut for dummy label\n",
    "def labelconvert(label,num_of_type=10):\n",
    "    label = label.reshape([-1,1])\n",
    "    label=np.tile(label,(1,num_of_type))\n",
    "    label_true = np.tile(np.arange(num_of_type),(label.shape[0],1))\n",
    "    return np.equal(label,label_true)"
   ]
  },
  {
   "cell_type": "markdown",
   "metadata": {},
   "source": [
    "### Preprocessing Layer"
   ]
  },
  {
   "cell_type": "code",
   "execution_count": 7,
   "metadata": {
    "collapsed": true
   },
   "outputs": [],
   "source": [
    "#preprocessing ops for testing\n",
    "preprocessing = tf.map_fn(lambda img: tf.image.per_image_standardization(img), x)\n",
    "#preprocessing ops for training\n",
    "distorted_image = tf.map_fn(lambda img: tf.image.pad_to_bounding_box(img, 4, 4, 40, 40), x)\n",
    "distorted_image = tf.map_fn(lambda img: tf.random_crop(img, [32, 32, 3]), distorted_image)\n",
    "distorted_image = tf.map_fn(lambda img: tf.image.random_flip_left_right(img), distorted_image)\n",
    "distorted_image = tf.map_fn(lambda img: tf.image.random_brightness(img, max_delta=63), distorted_image)\n",
    "distorted_image = tf.map_fn(lambda img: tf.image.random_contrast(img, lower=0.2, upper=1.8), distorted_image)\n",
    "aug_preprocessing = tf.map_fn(lambda img: tf.image.per_image_standardization(img), distorted_image)"
   ]
  },
  {
   "cell_type": "markdown",
   "metadata": {},
   "source": [
    "### ops for convolution layer 1"
   ]
  },
  {
   "cell_type": "code",
   "execution_count": 8,
   "metadata": {},
   "outputs": [
    {
     "name": "stdout",
     "output_type": "stream",
     "text": [
      "(?, 32, 32, 64)\n"
     ]
    }
   ],
   "source": [
    "conv1 = convlayer(x_preprocessed,'conv1',[3,3,3,64],status)"
   ]
  },
  {
   "cell_type": "markdown",
   "metadata": {},
   "source": [
    "### ops for convolution layer 2"
   ]
  },
  {
   "cell_type": "code",
   "execution_count": 9,
   "metadata": {},
   "outputs": [
    {
     "name": "stdout",
     "output_type": "stream",
     "text": [
      "(?, 32, 32, 64)\n"
     ]
    }
   ],
   "source": [
    "conv2 = convlayer(conv1,'conv2',[3,3,64,64],status)"
   ]
  },
  {
   "cell_type": "markdown",
   "metadata": {},
   "source": [
    "### ops for convolution layer 3"
   ]
  },
  {
   "cell_type": "code",
   "execution_count": 10,
   "metadata": {},
   "outputs": [
    {
     "name": "stdout",
     "output_type": "stream",
     "text": [
      "(?, 32, 32, 64)\n"
     ]
    }
   ],
   "source": [
    "conv2p = convlayer(conv2,'conv2p',[3,3,64,64],status)"
   ]
  },
  {
   "cell_type": "markdown",
   "metadata": {},
   "source": [
    "### ops for max-pooling layer 1"
   ]
  },
  {
   "cell_type": "code",
   "execution_count": 11,
   "metadata": {},
   "outputs": [
    {
     "data": {
      "text/plain": [
       "TensorShape([Dimension(None), Dimension(16), Dimension(16), Dimension(64)])"
      ]
     },
     "execution_count": 11,
     "metadata": {},
     "output_type": "execute_result"
    }
   ],
   "source": [
    "pool1 = max_pool(conv2p)\n",
    "pool1.shape"
   ]
  },
  {
   "cell_type": "markdown",
   "metadata": {},
   "source": [
    "### ops for convolution layer 4"
   ]
  },
  {
   "cell_type": "code",
   "execution_count": 12,
   "metadata": {},
   "outputs": [
    {
     "name": "stdout",
     "output_type": "stream",
     "text": [
      "(?, 16, 16, 96)\n"
     ]
    }
   ],
   "source": [
    "conv3 = convlayer(pool1,'conv3',[3,3,64,96],status)"
   ]
  },
  {
   "cell_type": "markdown",
   "metadata": {},
   "source": [
    "### ops for convolution layer 5"
   ]
  },
  {
   "cell_type": "code",
   "execution_count": 13,
   "metadata": {},
   "outputs": [
    {
     "name": "stdout",
     "output_type": "stream",
     "text": [
      "(?, 16, 16, 96)\n"
     ]
    }
   ],
   "source": [
    "conv4 = convlayer(conv3,'conv4',[3,3,96,96],status)"
   ]
  },
  {
   "cell_type": "markdown",
   "metadata": {},
   "source": [
    "### ops for max-pooling layer 2"
   ]
  },
  {
   "cell_type": "code",
   "execution_count": 14,
   "metadata": {},
   "outputs": [
    {
     "data": {
      "text/plain": [
       "TensorShape([Dimension(None), Dimension(8), Dimension(8), Dimension(96)])"
      ]
     },
     "execution_count": 14,
     "metadata": {},
     "output_type": "execute_result"
    }
   ],
   "source": [
    "pool2 = max_pool(conv4)\n",
    "pool2.shape"
   ]
  },
  {
   "cell_type": "markdown",
   "metadata": {},
   "source": [
    "### ops for convolution layer 6"
   ]
  },
  {
   "cell_type": "code",
   "execution_count": 15,
   "metadata": {},
   "outputs": [
    {
     "name": "stdout",
     "output_type": "stream",
     "text": [
      "(?, 8, 8, 128)\n"
     ]
    }
   ],
   "source": [
    "conv5 = convlayer(pool2,'conv5',[3,3,96,128],status)"
   ]
  },
  {
   "cell_type": "markdown",
   "metadata": {},
   "source": [
    "### ops for convolution layer 7"
   ]
  },
  {
   "cell_type": "code",
   "execution_count": 16,
   "metadata": {},
   "outputs": [
    {
     "name": "stdout",
     "output_type": "stream",
     "text": [
      "(?, 8, 8, 128)\n"
     ]
    }
   ],
   "source": [
    "conv6 = convlayer(conv5,'conv6',[3,3,128,128],status)"
   ]
  },
  {
   "cell_type": "markdown",
   "metadata": {},
   "source": [
    "### ops for convolution layer 8"
   ]
  },
  {
   "cell_type": "code",
   "execution_count": 17,
   "metadata": {},
   "outputs": [
    {
     "name": "stdout",
     "output_type": "stream",
     "text": [
      "(?, 8, 8, 128)\n"
     ]
    }
   ],
   "source": [
    "conv7 = convlayer(conv6,'conv7',[3,3,128,128],status)"
   ]
  },
  {
   "cell_type": "markdown",
   "metadata": {},
   "source": [
    "### ops for convolution layer 9"
   ]
  },
  {
   "cell_type": "code",
   "execution_count": 18,
   "metadata": {},
   "outputs": [
    {
     "name": "stdout",
     "output_type": "stream",
     "text": [
      "(?, 8, 8, 128)\n"
     ]
    }
   ],
   "source": [
    "conv8 = convlayer(conv7,'conv8',[3,3,128,128],status)"
   ]
  },
  {
   "cell_type": "markdown",
   "metadata": {},
   "source": [
    "### ops for max-pooling layer 3"
   ]
  },
  {
   "cell_type": "code",
   "execution_count": 19,
   "metadata": {},
   "outputs": [
    {
     "data": {
      "text/plain": [
       "TensorShape([Dimension(None), Dimension(4), Dimension(4), Dimension(128)])"
      ]
     },
     "execution_count": 19,
     "metadata": {},
     "output_type": "execute_result"
    }
   ],
   "source": [
    "pool3 = max_pool(conv8)\n",
    "pool3.shape"
   ]
  },
  {
   "cell_type": "markdown",
   "metadata": {},
   "source": [
    "### ops for convolution layer 10"
   ]
  },
  {
   "cell_type": "code",
   "execution_count": 20,
   "metadata": {},
   "outputs": [
    {
     "name": "stdout",
     "output_type": "stream",
     "text": [
      "(?, 4, 4, 256)\n"
     ]
    }
   ],
   "source": [
    "conv9 = convlayer(pool3,'conv9',[3,3,128,256],status)"
   ]
  },
  {
   "cell_type": "markdown",
   "metadata": {},
   "source": [
    "### ops for convolution layer 11"
   ]
  },
  {
   "cell_type": "code",
   "execution_count": 21,
   "metadata": {},
   "outputs": [
    {
     "name": "stdout",
     "output_type": "stream",
     "text": [
      "(?, 4, 4, 256)\n"
     ]
    }
   ],
   "source": [
    "conv10 = convlayer(conv9,'conv10',[3,3,256,256],status)"
   ]
  },
  {
   "cell_type": "markdown",
   "metadata": {},
   "source": [
    "### ops for max-pooling layer 4"
   ]
  },
  {
   "cell_type": "code",
   "execution_count": 22,
   "metadata": {},
   "outputs": [
    {
     "data": {
      "text/plain": [
       "TensorShape([Dimension(None), Dimension(2), Dimension(2), Dimension(256)])"
      ]
     },
     "execution_count": 22,
     "metadata": {},
     "output_type": "execute_result"
    }
   ],
   "source": [
    "pool4 = max_pool(conv10)\n",
    "pool4.shape"
   ]
  },
  {
   "cell_type": "markdown",
   "metadata": {},
   "source": [
    "### reshape layer"
   ]
  },
  {
   "cell_type": "code",
   "execution_count": 23,
   "metadata": {},
   "outputs": [
    {
     "data": {
      "text/plain": [
       "TensorShape([Dimension(None), Dimension(1024)])"
      ]
     },
     "execution_count": 23,
     "metadata": {},
     "output_type": "execute_result"
    }
   ],
   "source": [
    "fc = tf.reshape(pool4,[-1, pool4.shape[1].value*pool4.shape[2].value*pool4.shape[3].value])\n",
    "fc.shape"
   ]
  },
  {
   "cell_type": "markdown",
   "metadata": {},
   "source": [
    "### ops for fully connected layer 1"
   ]
  },
  {
   "cell_type": "code",
   "execution_count": 24,
   "metadata": {},
   "outputs": [
    {
     "name": "stdout",
     "output_type": "stream",
     "text": [
      "(?, 256)\n"
     ]
    }
   ],
   "source": [
    "keep_prob = tf.placeholder(tf.float32)\n",
    "fc1 = fclayer(fc,'fc1',[1024,256],keep_prob)"
   ]
  },
  {
   "cell_type": "markdown",
   "metadata": {},
   "source": [
    "### ops for fully connected layer 2"
   ]
  },
  {
   "cell_type": "code",
   "execution_count": 25,
   "metadata": {},
   "outputs": [
    {
     "name": "stdout",
     "output_type": "stream",
     "text": [
      "(?, 128)\n"
     ]
    }
   ],
   "source": [
    "fc2 = fclayer(fc1,'fc2',[256,128],keep_prob)"
   ]
  },
  {
   "cell_type": "markdown",
   "metadata": {},
   "source": [
    "### ops for fully connected layer 3"
   ]
  },
  {
   "cell_type": "code",
   "execution_count": 26,
   "metadata": {},
   "outputs": [
    {
     "name": "stdout",
     "output_type": "stream",
     "text": [
      "(?, 64)\n"
     ]
    }
   ],
   "source": [
    "fc3 = fclayer(fc2,'fc3',[128,64],keep_prob)"
   ]
  },
  {
   "cell_type": "markdown",
   "metadata": {},
   "source": [
    "### ops for output before softmax"
   ]
  },
  {
   "cell_type": "code",
   "execution_count": 27,
   "metadata": {},
   "outputs": [
    {
     "data": {
      "text/plain": [
       "TensorShape([Dimension(None), Dimension(10)])"
      ]
     },
     "execution_count": 27,
     "metadata": {},
     "output_type": "execute_result"
    }
   ],
   "source": [
    "W_softmax = tf.get_variable(\"W_softmax\", shape=[64,10],initializer=tf.contrib.layers.xavier_initializer())\n",
    "b_softmax = bias_variable([10])\n",
    "y = tf.matmul(fc3, W_softmax)+b_softmax\n",
    "y.shape"
   ]
  },
  {
   "cell_type": "markdown",
   "metadata": {},
   "source": [
    "### loss function"
   ]
  },
  {
   "cell_type": "code",
   "execution_count": 28,
   "metadata": {
    "collapsed": true
   },
   "outputs": [],
   "source": [
    "cross_entropy = tf.reduce_mean(tf.nn.softmax_cross_entropy_with_logits(labels=y_, logits=y))\n",
    "train_step = tf.train.AdamOptimizer(learning_rate).minimize(cross_entropy)\n",
    "correct_prediction = tf.equal(tf.argmax(y_,1), tf.argmax(y,1))\n",
    "accuracy = tf.reduce_mean(tf.cast(correct_prediction, tf.float32))\n",
    "#update parameter for BN\n",
    "extra_update_ops = tf.get_collection(tf.GraphKeys.UPDATE_OPS)"
   ]
  },
  {
   "cell_type": "markdown",
   "metadata": {
    "collapsed": true
   },
   "source": [
    "### training"
   ]
  },
  {
   "cell_type": "markdown",
   "metadata": {},
   "source": [
    "#### extracting data from files"
   ]
  },
  {
   "cell_type": "code",
   "execution_count": 29,
   "metadata": {
    "collapsed": true
   },
   "outputs": [],
   "source": [
    "CIFAR10 = file_information('CIFAR10_data/binary', height=32, width=32, \n",
    "                           channels=3, labels=1, train_size=TRAIN_SIZE, test_size = TEST_SIZE)"
   ]
  },
  {
   "cell_type": "code",
   "execution_count": 30,
   "metadata": {
    "collapsed": true
   },
   "outputs": [],
   "source": [
    "CIFAR10_data = read_cifar10(CIFAR10)\n",
    "\n",
    "training_data,testing_data = CIFAR10_data.training_data,CIFAR10_data.testing_data\n",
    "\n",
    "#convert 1-line label to 10 dimension\n",
    "training_label = labelconvert(CIFAR10_data.training_label).astype(float)\n",
    "testing_label = labelconvert(CIFAR10_data.testing_label).astype(float)"
   ]
  },
  {
   "cell_type": "markdown",
   "metadata": {},
   "source": [
    "#### iteration"
   ]
  },
  {
   "cell_type": "code",
   "execution_count": 31,
   "metadata": {
    "collapsed": true
   },
   "outputs": [],
   "source": [
    "def CNNtraining(LEARNING_RATE=0.001,training_data = training_data,training_label = training_label,\n",
    "                testing_data = testing_data,testing_label = testing_label,\n",
    "                kb = 0.5):\n",
    "    with tf.Session() as sess:\n",
    "        #init\n",
    "        init_op = tf.global_variables_initializer()\n",
    "        sess.run(init_op)\n",
    "        #preprocessing training/testing data\n",
    "        training_data_augmented = training_data\n",
    "        training_label_augmented = training_label\n",
    "        training_data = preprocessing.eval(feed_dict={x: training_data})\n",
    "        testing_data = preprocessing.eval(feed_dict={x: testing_data})\n",
    "        #save for plot\n",
    "        loss_train=[]\n",
    "        accuracy_train=[]\n",
    "        accuracy_test=[]\n",
    "        for current_iter in range(2000):\n",
    "            if(len(loss_train)>30):\n",
    "                if(np.max(accuracy_train)-np.max(accuracy_train[:len(loss_train)-30])<0.001):\n",
    "                    break\n",
    "            #shuffle input data  \n",
    "            training_data_augmented,training_label_augmented = shuffle(training_data_augmented,training_label_augmented)\n",
    "            #mini-batch gradient descent\n",
    "            for i in range(int(TRAIN_SIZE/BATCH_SIZE)):\n",
    "                #augmenting training label\n",
    "                training_data_batch = aug_preprocessing.eval(feed_dict={x: training_data_augmented[BATCH_SIZE*i:BATCH_SIZE*(i+1)]})\n",
    "                training_label_batch = training_label_augmented[BATCH_SIZE*i:BATCH_SIZE*(i+1)]\n",
    "                sess.run([train_step,extra_update_ops],feed_dict={x_preprocessed: training_data_batch,\n",
    "                                          y_: training_label_batch,\n",
    "                                         learning_rate: LEARNING_RATE,\n",
    "                                         keep_prob:kb,\n",
    "                                         status:True})\n",
    "            #iteration in order to avoid OOM\n",
    "            train_accuracy = 0\n",
    "            train_loss = 0\n",
    "            test_accuracy = 0\n",
    "            for i in range(100):\n",
    "                train_accuracy += accuracy.eval(feed_dict={x_preprocessed:training_data[500*i:500*(i+1)], \n",
    "                                                           y_: training_label[500*i:500*(i+1)],\n",
    "                                                           keep_prob:1.0,\n",
    "                                                           status:False})\n",
    "                train_loss += cross_entropy.eval(feed_dict={x_preprocessed:training_data[500*i:500*(i+1)], \n",
    "                                                            y_: training_label[500*i:500*(i+1)],\n",
    "                                                            keep_prob:1.0,\n",
    "                                                            status:False})\n",
    "            train_accuracy /= 100\n",
    "            train_loss /= 100\n",
    "            for i in range(20):\n",
    "                test_accuracy += accuracy.eval(feed_dict={x_preprocessed:testing_data[500*i:500*(i+1)], \n",
    "                                                         y_: testing_label[500*i:500*(i+1)],\n",
    "                                                         keep_prob:1.0,\n",
    "                                                         status:False})\n",
    "            test_accuracy /= 20\n",
    "            print(time.asctime( time.localtime(time.time())),\":epoch %5d\"%(current_iter+1),\"training accuracy %.4g\"%train_accuracy,\"test accuracy %.5g\"%test_accuracy)\n",
    "            loss_train = np.append(loss_train, train_loss)\n",
    "            accuracy_train = np.append(accuracy_train, train_accuracy)\n",
    "            accuracy_test = np.append(accuracy_test, test_accuracy)\n",
    "        return loss_train,accuracy_train,accuracy_test"
   ]
  },
  {
   "cell_type": "code",
   "execution_count": 32,
   "metadata": {
    "collapsed": true,
    "scrolled": false
   },
   "outputs": [],
   "source": [
    "def CNNdrawing(loss_train,accuracy_train,accuracy_test):\n",
    "    horizontal_axis = np.arange(len(loss_train))\n",
    "    plt.subplot(2, 1, 1)\n",
    "    plt.plot(horizontal_axis, loss_train, 'r-o',label='learning loss->%.4g'%np.min(loss_train))\n",
    "    plt.legend()\n",
    "    plt.subplot(2, 1, 2)\n",
    "    plt.plot(horizontal_axis, accuracy_train, 'g--',label='training accuracy->%.4g'%np.max(accuracy_train))\n",
    "    plt.plot(horizontal_axis, accuracy_test, 'b-+',label='testing accuracy->%.4g'%np.max(accuracy_test))\n",
    "    plt.legend()\n",
    "    plt.show()"
   ]
  },
  {
   "cell_type": "code",
   "execution_count": 33,
   "metadata": {},
   "outputs": [
    {
     "name": "stdout",
     "output_type": "stream",
     "text": [
      "Tue Apr 18 12:27:27 2017 :epoch     1 training accuracy 0.407 test accuracy 0.4009\n",
      "Tue Apr 18 12:30:32 2017 :epoch     2 training accuracy 0.6374 test accuracy 0.6324\n",
      "Tue Apr 18 12:33:41 2017 :epoch     3 training accuracy 0.7015 test accuracy 0.6927\n",
      "Tue Apr 18 12:36:50 2017 :epoch     4 training accuracy 0.7397 test accuracy 0.7255\n",
      "Tue Apr 18 12:39:58 2017 :epoch     5 training accuracy 0.7934 test accuracy 0.7724\n",
      "Tue Apr 18 12:43:07 2017 :epoch     6 training accuracy 0.7554 test accuracy 0.735\n",
      "Tue Apr 18 12:46:16 2017 :epoch     7 training accuracy 0.804 test accuracy 0.7868\n",
      "Tue Apr 18 12:49:25 2017 :epoch     8 training accuracy 0.8281 test accuracy 0.8033\n",
      "Tue Apr 18 12:52:34 2017 :epoch     9 training accuracy 0.8255 test accuracy 0.7984\n",
      "Tue Apr 18 12:55:43 2017 :epoch    10 training accuracy 0.8425 test accuracy 0.816\n",
      "Tue Apr 18 12:58:53 2017 :epoch    11 training accuracy 0.8508 test accuracy 0.8139\n",
      "Tue Apr 18 13:02:02 2017 :epoch    12 training accuracy 0.8572 test accuracy 0.8223\n",
      "Tue Apr 18 13:05:11 2017 :epoch    13 training accuracy 0.8769 test accuracy 0.845\n",
      "Tue Apr 18 13:08:22 2017 :epoch    14 training accuracy 0.889 test accuracy 0.8506\n",
      "Tue Apr 18 13:11:32 2017 :epoch    15 training accuracy 0.8964 test accuracy 0.8579\n",
      "Tue Apr 18 13:14:42 2017 :epoch    16 training accuracy 0.8798 test accuracy 0.8383\n",
      "Tue Apr 18 13:17:52 2017 :epoch    17 training accuracy 0.8905 test accuracy 0.8519\n",
      "Tue Apr 18 13:21:02 2017 :epoch    18 training accuracy 0.8628 test accuracy 0.8238\n",
      "Tue Apr 18 13:24:12 2017 :epoch    19 training accuracy 0.9024 test accuracy 0.8589\n",
      "Tue Apr 18 13:27:22 2017 :epoch    20 training accuracy 0.8942 test accuracy 0.8509\n",
      "Tue Apr 18 13:30:32 2017 :epoch    21 training accuracy 0.9222 test accuracy 0.8679\n",
      "Tue Apr 18 13:33:42 2017 :epoch    22 training accuracy 0.8988 test accuracy 0.8541\n",
      "Tue Apr 18 13:36:51 2017 :epoch    23 training accuracy 0.9219 test accuracy 0.8726\n",
      "Tue Apr 18 13:40:01 2017 :epoch    24 training accuracy 0.9284 test accuracy 0.8772\n",
      "Tue Apr 18 13:43:11 2017 :epoch    25 training accuracy 0.9291 test accuracy 0.8721\n",
      "Tue Apr 18 13:46:22 2017 :epoch    26 training accuracy 0.9206 test accuracy 0.8692\n",
      "Tue Apr 18 13:49:32 2017 :epoch    27 training accuracy 0.9259 test accuracy 0.8708\n",
      "Tue Apr 18 13:52:42 2017 :epoch    28 training accuracy 0.9326 test accuracy 0.8765\n",
      "Tue Apr 18 13:55:53 2017 :epoch    29 training accuracy 0.9467 test accuracy 0.8887\n",
      "Tue Apr 18 13:59:03 2017 :epoch    30 training accuracy 0.9474 test accuracy 0.8865\n",
      "Tue Apr 18 14:02:12 2017 :epoch    31 training accuracy 0.9487 test accuracy 0.8856\n",
      "Tue Apr 18 14:05:23 2017 :epoch    32 training accuracy 0.9399 test accuracy 0.8775\n",
      "Tue Apr 18 14:08:32 2017 :epoch    33 training accuracy 0.9503 test accuracy 0.891\n",
      "Tue Apr 18 14:11:42 2017 :epoch    34 training accuracy 0.9502 test accuracy 0.8846\n",
      "Tue Apr 18 14:14:52 2017 :epoch    35 training accuracy 0.9534 test accuracy 0.8887\n",
      "Tue Apr 18 14:18:03 2017 :epoch    36 training accuracy 0.9563 test accuracy 0.8873\n",
      "Tue Apr 18 14:21:13 2017 :epoch    37 training accuracy 0.9579 test accuracy 0.8922\n",
      "Tue Apr 18 14:24:23 2017 :epoch    38 training accuracy 0.9571 test accuracy 0.8923\n",
      "Tue Apr 18 14:27:34 2017 :epoch    39 training accuracy 0.9539 test accuracy 0.8894\n",
      "Tue Apr 18 14:30:45 2017 :epoch    40 training accuracy 0.9561 test accuracy 0.8854\n",
      "Tue Apr 18 14:33:55 2017 :epoch    41 training accuracy 0.9552 test accuracy 0.8873\n",
      "Tue Apr 18 14:37:04 2017 :epoch    42 training accuracy 0.9384 test accuracy 0.8712\n",
      "Tue Apr 18 14:40:13 2017 :epoch    43 training accuracy 0.9636 test accuracy 0.8967\n",
      "Tue Apr 18 14:43:23 2017 :epoch    44 training accuracy 0.9653 test accuracy 0.8957\n",
      "Tue Apr 18 14:46:33 2017 :epoch    45 training accuracy 0.9659 test accuracy 0.8918\n",
      "Tue Apr 18 14:49:44 2017 :epoch    46 training accuracy 0.9618 test accuracy 0.8897\n",
      "Tue Apr 18 14:52:53 2017 :epoch    47 training accuracy 0.9618 test accuracy 0.8879\n",
      "Tue Apr 18 14:56:04 2017 :epoch    48 training accuracy 0.9573 test accuracy 0.8893\n",
      "Tue Apr 18 14:59:14 2017 :epoch    49 training accuracy 0.9689 test accuracy 0.8927\n",
      "Tue Apr 18 15:02:24 2017 :epoch    50 training accuracy 0.965 test accuracy 0.8907\n",
      "Tue Apr 18 15:05:33 2017 :epoch    51 training accuracy 0.9634 test accuracy 0.8919\n",
      "Tue Apr 18 15:08:43 2017 :epoch    52 training accuracy 0.9725 test accuracy 0.8932\n",
      "Tue Apr 18 15:11:52 2017 :epoch    53 training accuracy 0.9673 test accuracy 0.8874\n",
      "Tue Apr 18 15:15:01 2017 :epoch    54 training accuracy 0.9712 test accuracy 0.8936\n",
      "Tue Apr 18 15:18:11 2017 :epoch    55 training accuracy 0.9717 test accuracy 0.8966\n",
      "Tue Apr 18 15:21:21 2017 :epoch    56 training accuracy 0.9724 test accuracy 0.8972\n",
      "Tue Apr 18 15:24:31 2017 :epoch    57 training accuracy 0.9685 test accuracy 0.8965\n",
      "Tue Apr 18 15:27:41 2017 :epoch    58 training accuracy 0.9754 test accuracy 0.9006\n",
      "Tue Apr 18 15:30:51 2017 :epoch    59 training accuracy 0.9663 test accuracy 0.8923\n",
      "Tue Apr 18 15:34:01 2017 :epoch    60 training accuracy 0.9765 test accuracy 0.8947\n",
      "Tue Apr 18 15:37:11 2017 :epoch    61 training accuracy 0.9764 test accuracy 0.899\n",
      "Tue Apr 18 15:40:21 2017 :epoch    62 training accuracy 0.9759 test accuracy 0.894\n",
      "Tue Apr 18 15:43:31 2017 :epoch    63 training accuracy 0.9792 test accuracy 0.9011\n",
      "Tue Apr 18 15:46:41 2017 :epoch    64 training accuracy 0.9764 test accuracy 0.9003\n",
      "Tue Apr 18 15:49:51 2017 :epoch    65 training accuracy 0.9789 test accuracy 0.8962\n",
      "Tue Apr 18 15:53:01 2017 :epoch    66 training accuracy 0.9684 test accuracy 0.8857\n",
      "Tue Apr 18 15:56:11 2017 :epoch    67 training accuracy 0.9772 test accuracy 0.8944\n",
      "Tue Apr 18 15:59:22 2017 :epoch    68 training accuracy 0.9734 test accuracy 0.89\n",
      "Tue Apr 18 16:02:32 2017 :epoch    69 training accuracy 0.9712 test accuracy 0.8888\n",
      "Tue Apr 18 16:05:43 2017 :epoch    70 training accuracy 0.9786 test accuracy 0.8958\n",
      "Tue Apr 18 16:08:54 2017 :epoch    71 training accuracy 0.9814 test accuracy 0.9005\n",
      "Tue Apr 18 16:12:04 2017 :epoch    72 training accuracy 0.9795 test accuracy 0.8995\n",
      "Tue Apr 18 16:15:15 2017 :epoch    73 training accuracy 0.9788 test accuracy 0.8985\n",
      "Tue Apr 18 16:18:26 2017 :epoch    74 training accuracy 0.9792 test accuracy 0.8983\n",
      "Tue Apr 18 16:21:37 2017 :epoch    75 training accuracy 0.9832 test accuracy 0.9035\n",
      "Tue Apr 18 16:24:48 2017 :epoch    76 training accuracy 0.9775 test accuracy 0.8945\n",
      "Tue Apr 18 16:27:59 2017 :epoch    77 training accuracy 0.9728 test accuracy 0.8973\n",
      "Tue Apr 18 16:31:09 2017 :epoch    78 training accuracy 0.9792 test accuracy 0.8984\n",
      "Tue Apr 18 16:34:20 2017 :epoch    79 training accuracy 0.9789 test accuracy 0.8957\n",
      "Tue Apr 18 16:37:30 2017 :epoch    80 training accuracy 0.9833 test accuracy 0.905\n",
      "Tue Apr 18 16:40:42 2017 :epoch    81 training accuracy 0.9851 test accuracy 0.9026\n",
      "Tue Apr 18 16:43:52 2017 :epoch    82 training accuracy 0.9749 test accuracy 0.8913\n",
      "Tue Apr 18 16:47:02 2017 :epoch    83 training accuracy 0.9823 test accuracy 0.8991\n",
      "Tue Apr 18 16:50:13 2017 :epoch    84 training accuracy 0.9834 test accuracy 0.8997\n",
      "Tue Apr 18 16:53:23 2017 :epoch    85 training accuracy 0.9796 test accuracy 0.8975\n",
      "Tue Apr 18 16:56:33 2017 :epoch    86 training accuracy 0.9856 test accuracy 0.9037\n",
      "Tue Apr 18 16:59:44 2017 :epoch    87 training accuracy 0.9838 test accuracy 0.9056\n",
      "Tue Apr 18 17:02:55 2017 :epoch    88 training accuracy 0.9861 test accuracy 0.9011\n",
      "Tue Apr 18 17:06:05 2017 :epoch    89 training accuracy 0.9835 test accuracy 0.8987\n",
      "Tue Apr 18 17:09:16 2017 :epoch    90 training accuracy 0.986 test accuracy 0.9025\n",
      "Tue Apr 18 17:12:27 2017 :epoch    91 training accuracy 0.9865 test accuracy 0.9064\n",
      "Tue Apr 18 17:15:37 2017 :epoch    92 training accuracy 0.9827 test accuracy 0.8989\n",
      "Tue Apr 18 17:18:46 2017 :epoch    93 training accuracy 0.9834 test accuracy 0.8987\n",
      "Tue Apr 18 17:21:56 2017 :epoch    94 training accuracy 0.9809 test accuracy 0.8951\n",
      "Tue Apr 18 17:25:06 2017 :epoch    95 training accuracy 0.9884 test accuracy 0.9031\n",
      "Tue Apr 18 17:28:16 2017 :epoch    96 training accuracy 0.9708 test accuracy 0.8876\n",
      "Tue Apr 18 17:31:26 2017 :epoch    97 training accuracy 0.9851 test accuracy 0.9041\n",
      "Tue Apr 18 17:34:37 2017 :epoch    98 training accuracy 0.9858 test accuracy 0.905\n",
      "Tue Apr 18 17:37:47 2017 :epoch    99 training accuracy 0.9795 test accuracy 0.896\n",
      "Tue Apr 18 17:40:58 2017 :epoch   100 training accuracy 0.985 test accuracy 0.9057\n",
      "Tue Apr 18 17:44:09 2017 :epoch   101 training accuracy 0.9879 test accuracy 0.9066\n",
      "Tue Apr 18 17:47:18 2017 :epoch   102 training accuracy 0.9857 test accuracy 0.9061\n",
      "Tue Apr 18 17:50:29 2017 :epoch   103 training accuracy 0.9861 test accuracy 0.8999\n",
      "Tue Apr 18 17:53:43 2017 :epoch   104 training accuracy 0.9824 test accuracy 0.8936\n",
      "Tue Apr 18 17:56:55 2017 :epoch   105 training accuracy 0.9851 test accuracy 0.9039\n",
      "Tue Apr 18 18:00:04 2017 :epoch   106 training accuracy 0.9851 test accuracy 0.9018\n",
      "Tue Apr 18 18:03:14 2017 :epoch   107 training accuracy 0.9852 test accuracy 0.902\n",
      "Tue Apr 18 18:06:24 2017 :epoch   108 training accuracy 0.9884 test accuracy 0.9079\n",
      "Tue Apr 18 18:09:34 2017 :epoch   109 training accuracy 0.9901 test accuracy 0.9037\n",
      "Tue Apr 18 18:12:45 2017 :epoch   110 training accuracy 0.9851 test accuracy 0.9004\n",
      "Tue Apr 18 18:15:55 2017 :epoch   111 training accuracy 0.9881 test accuracy 0.9038\n",
      "Tue Apr 18 18:19:05 2017 :epoch   112 training accuracy 0.9817 test accuracy 0.8923\n",
      "Tue Apr 18 18:22:15 2017 :epoch   113 training accuracy 0.9866 test accuracy 0.9035\n",
      "Tue Apr 18 18:25:25 2017 :epoch   114 training accuracy 0.9854 test accuracy 0.9039\n",
      "Tue Apr 18 18:28:35 2017 :epoch   115 training accuracy 0.9832 test accuracy 0.899\n",
      "Tue Apr 18 18:31:46 2017 :epoch   116 training accuracy 0.9872 test accuracy 0.9032\n",
      "Tue Apr 18 18:34:56 2017 :epoch   117 training accuracy 0.9841 test accuracy 0.9002\n",
      "Tue Apr 18 18:38:07 2017 :epoch   118 training accuracy 0.9885 test accuracy 0.9085\n",
      "Tue Apr 18 18:41:17 2017 :epoch   119 training accuracy 0.9866 test accuracy 0.9032\n",
      "Tue Apr 18 18:44:27 2017 :epoch   120 training accuracy 0.987 test accuracy 0.8997\n",
      "Tue Apr 18 18:47:37 2017 :epoch   121 training accuracy 0.9856 test accuracy 0.8982\n",
      "Tue Apr 18 18:50:47 2017 :epoch   122 training accuracy 0.9833 test accuracy 0.8975\n",
      "Tue Apr 18 18:53:57 2017 :epoch   123 training accuracy 0.9855 test accuracy 0.9019\n",
      "Tue Apr 18 18:57:08 2017 :epoch   124 training accuracy 0.9901 test accuracy 0.9058\n",
      "Tue Apr 18 19:00:18 2017 :epoch   125 training accuracy 0.9915 test accuracy 0.9059\n",
      "Tue Apr 18 19:03:28 2017 :epoch   126 training accuracy 0.9859 test accuracy 0.9041\n",
      "Tue Apr 18 19:06:38 2017 :epoch   127 training accuracy 0.9869 test accuracy 0.8997\n",
      "Tue Apr 18 19:09:48 2017 :epoch   128 training accuracy 0.9873 test accuracy 0.9038\n",
      "Tue Apr 18 19:12:59 2017 :epoch   129 training accuracy 0.9913 test accuracy 0.908\n",
      "Tue Apr 18 19:16:09 2017 :epoch   130 training accuracy 0.989 test accuracy 0.9054\n",
      "Tue Apr 18 19:19:20 2017 :epoch   131 training accuracy 0.9889 test accuracy 0.9044\n",
      "Tue Apr 18 19:22:30 2017 :epoch   132 training accuracy 0.9902 test accuracy 0.909\n",
      "Tue Apr 18 19:25:40 2017 :epoch   133 training accuracy 0.9903 test accuracy 0.9059\n",
      "Tue Apr 18 19:28:50 2017 :epoch   134 training accuracy 0.9881 test accuracy 0.9056\n",
      "Tue Apr 18 19:32:00 2017 :epoch   135 training accuracy 0.9892 test accuracy 0.9072\n",
      "Tue Apr 18 19:35:10 2017 :epoch   136 training accuracy 0.9922 test accuracy 0.9082\n",
      "Tue Apr 18 19:38:19 2017 :epoch   137 training accuracy 0.9896 test accuracy 0.9068\n",
      "Tue Apr 18 19:41:29 2017 :epoch   138 training accuracy 0.9862 test accuracy 0.9033\n",
      "Tue Apr 18 19:44:40 2017 :epoch   139 training accuracy 0.9901 test accuracy 0.9034\n",
      "Tue Apr 18 19:47:49 2017 :epoch   140 training accuracy 0.9899 test accuracy 0.9079\n",
      "Tue Apr 18 19:50:59 2017 :epoch   141 training accuracy 0.9899 test accuracy 0.9072\n",
      "Tue Apr 18 19:54:09 2017 :epoch   142 training accuracy 0.9914 test accuracy 0.9045\n",
      "Tue Apr 18 19:57:19 2017 :epoch   143 training accuracy 0.9912 test accuracy 0.9046\n",
      "Tue Apr 18 20:00:28 2017 :epoch   144 training accuracy 0.9851 test accuracy 0.9014\n",
      "Tue Apr 18 20:03:39 2017 :epoch   145 training accuracy 0.9896 test accuracy 0.9063\n",
      "Tue Apr 18 20:06:49 2017 :epoch   146 training accuracy 0.9912 test accuracy 0.9087\n",
      "Tue Apr 18 20:09:59 2017 :epoch   147 training accuracy 0.9906 test accuracy 0.9037\n",
      "Tue Apr 18 20:13:09 2017 :epoch   148 training accuracy 0.989 test accuracy 0.9032\n",
      "Tue Apr 18 20:16:20 2017 :epoch   149 training accuracy 0.9878 test accuracy 0.9005\n",
      "Tue Apr 18 20:19:30 2017 :epoch   150 training accuracy 0.991 test accuracy 0.9052\n",
      "Tue Apr 18 20:22:40 2017 :epoch   151 training accuracy 0.9861 test accuracy 0.9012\n",
      "Tue Apr 18 20:25:49 2017 :epoch   152 training accuracy 0.9876 test accuracy 0.8993\n",
      "Tue Apr 18 20:29:00 2017 :epoch   153 training accuracy 0.9913 test accuracy 0.9103\n",
      "Tue Apr 18 20:32:10 2017 :epoch   154 training accuracy 0.9882 test accuracy 0.9039\n",
      "Tue Apr 18 20:35:19 2017 :epoch   155 training accuracy 0.988 test accuracy 0.9005\n"
     ]
    },
    {
     "data": {
      "image/png": "[encoded data removed]",
      "text/plain": [
       "<matplotlib.figure.Figure at 0x19859f98>"
      ]
     },
     "metadata": {},
     "output_type": "display_data"
    }
   ],
   "source": [
    "#drop prob1=drop prob2 = 1.0\n",
    "loss_train,accuracy_train,accuracy_test = CNNtraining(kb = 0.9)\n",
    "CNNdrawing(loss_train,accuracy_train,accuracy_test)"
   ]
  },
  {
   "cell_type": "markdown",
   "metadata": {},
   "source": [
    "Add layer\n",
    "\n",
    "Augmentation\n",
    "\n",
    "functionalized\n",
    "\n",
    "Batch Norm\n",
    "\n",
    "Shrinked VGG\n",
    "\n",
    "Adam optimizer(default)\n",
    "\n",
    "dropoff\n",
    "\n",
    "stop if 0.5% accracy improvement is not satisfied within 30 epoch"
   ]
  }
 ],
 "metadata": {
  "anaconda-cloud": {},
  "kernelspec": {
   "display_name": "Python 2",
   "language": "python",
   "name": "python2"
  },
  "language_info": {
   "codemirror_mode": {
    "name": "ipython",
    "version": 2
   },
   "file_extension": ".py",
   "mimetype": "text/x-python",
   "name": "python",
   "nbconvert_exporter": "python",
   "pygments_lexer": "ipython2",
   "version": "2.7.12"
  }
 },
 "nbformat": 4,
 "nbformat_minor": 2
}
