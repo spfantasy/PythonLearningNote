{
 "cells": [
  {
   "cell_type": "code",
   "execution_count": 1,
   "metadata": {
    "collapsed": true
   },
   "outputs": [],
   "source": [
    "from __future__ import print_function\n",
    "from __future__ import unicode_literals\n",
    "from __future__ import division\n",
    "from __future__ import absolute_import\n",
    "import sys\n",
    "reload(sys)\n",
    "sys.setdefaultencoding('utf-8')"
   ]
  },
  {
   "cell_type": "markdown",
   "metadata": {},
   "source": [
    "21.\n",
    "Merge two sorted linked lists and return it as a new list. The new list should be made by splicing together the nodes of the first two lists."
   ]
  },
  {
   "cell_type": "code",
   "execution_count": 2,
   "metadata": {
    "collapsed": true
   },
   "outputs": [],
   "source": [
    "# Definition for singly-linked list.\n",
    "class ListNode(object):\n",
    "    def __init__(self, x):\n",
    "        self.val = x\n",
    "        self.next = None\n",
    "\n",
    "class Solution(object):\n",
    "    def mergeNode(self, end, l1, l2):\n",
    "        if l1 == None:\n",
    "            end.next = l2\n",
    "            l2 = None\n",
    "        elif l2 == None:\n",
    "            end.next = l1\n",
    "            l1 = None\n",
    "        elif l1.val < l2.val:\n",
    "            end.next = l1\n",
    "            l1 = l1.next\n",
    "            end = end.next\n",
    "            end.next = None\n",
    "        else:\n",
    "            end.next = l2\n",
    "            l2 = l2.next\n",
    "            end = end.next\n",
    "            end.next = None\n",
    "        return end,l1,l2\n",
    "    \n",
    "    def mergeTwoLists(self, l1, l2):\n",
    "        \"\"\"\n",
    "        :type l1: ListNode\n",
    "        :type l2: ListNode\n",
    "        :rtype: ListNode\n",
    "        \"\"\"\n",
    "        start = ListNode(0)\n",
    "        end = start\n",
    "        while l1 != None or l2 != None:\n",
    "            end,l1,l2 = self.mergeNode(end,l1,l2)\n",
    "        return start.next"
   ]
  },
  {
   "cell_type": "markdown",
   "metadata": {},
   "source": [
    "22\n",
    "Generate Parentheses   "
   ]
  },
  {
   "cell_type": "code",
   "execution_count": 12,
   "metadata": {},
   "outputs": [],
   "source": [
    "class Solution(object):\n",
    "    def findvalidparentheses(self,combination,this_str,energy,total):\n",
    "        length = len(this_str) \n",
    "        if length == total:\n",
    "            \n",
    "            combination.append(this_str)\n",
    "            return\n",
    "        if total-length > energy:\n",
    "            self.findvalidparentheses(combination,this_str+'(',energy+1,total)\n",
    "        if energy > 0:\n",
    "            self.findvalidparentheses(combination,this_str+')',energy-1,total)\n",
    "            \n",
    "    def generateParenthesis(self, n):\n",
    "        \"\"\"\n",
    "        :type n: int\n",
    "        :rtype: List[str]\n",
    "        \"\"\"\n",
    "        combination = []\n",
    "        self.findvalidparentheses(combination,\"(\",1,n*2)\n",
    "        return combination"
   ]
  },
  {
   "cell_type": "code",
   "execution_count": 14,
   "metadata": {},
   "outputs": [
    {
     "data": {
      "text/plain": [
       "[u'((()))', u'(()())', u'(())()', u'()(())', u'()()()']"
      ]
     },
     "execution_count": 14,
     "metadata": {},
     "output_type": "execute_result"
    }
   ],
   "source": [
    "S = Solution()\n",
    "S.generateParenthesis(3)"
   ]
  },
  {
   "cell_type": "code",
   "execution_count": null,
   "metadata": {
    "collapsed": true
   },
   "outputs": [],
   "source": []
  }
 ],
 "metadata": {
  "kernelspec": {
   "display_name": "Python 2",
   "language": "python",
   "name": "python2"
  },
  "language_info": {
   "codemirror_mode": {
    "name": "ipython",
    "version": 2
   },
   "file_extension": ".py",
   "mimetype": "text/x-python",
   "name": "python",
   "nbconvert_exporter": "python",
   "pygments_lexer": "ipython2",
   "version": "2.7.12"
  }
 },
 "nbformat": 4,
 "nbformat_minor": 2
}
