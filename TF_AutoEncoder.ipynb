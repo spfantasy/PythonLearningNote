{
 "cells": [
  {
   "cell_type": "markdown",
   "metadata": {},
   "source": [
    "# 自编码器"
   ]
  },
  {
   "cell_type": "code",
   "execution_count": 1,
   "metadata": {},
   "outputs": [],
   "source": [
    "import tensorflow as tf\n",
    "import numpy as np\n",
    "import sklearn.preprocessing as prep"
   ]
  },
  {
   "cell_type": "code",
   "execution_count": 2,
   "metadata": {
    "collapsed": true
   },
   "outputs": [],
   "source": [
    "from tensorflow.examples.tutorials.mnist import  input_data"
   ]
  },
  {
   "cell_type": "code",
   "execution_count": 3,
   "metadata": {},
   "outputs": [],
   "source": [
    "class AdditiveGaussianNoiseAutoencoder(object):\n",
    "    def __init__(self, n_input, n_hidden, transfer_function = tf.nn.softplus,\n",
    "                optimizer = tf.train.AdamOptimizer(), scale = 0.1):\n",
    "        self.n_input = n_input\n",
    "        self.n_hidden = n_hidden\n",
    "        self.transfer = transfer_function\n",
    "        self.scale = tf.placeholder(tf.float32)\n",
    "        self.training_scale = scale\n",
    "        network_weights = self._initialize_weights()\n",
    "        self.weights = network_weights\n",
    "\n",
    "        self.x = tf.placeholder(tf.float32,[None,self.n_input])\n",
    "        self.hidden = self.transfer(tf.add(tf.matmul(self.x + self.training_scale \n",
    "                                                  * tf.random_normal((n_input,)),\n",
    "                                                  self.weights['w1']),self.weights['b1']))\n",
    "        self.reconstruction = tf.add(tf.matmul(self.hidden,self.weights['w2']),self.weights['b2'])\n",
    "\n",
    "        self.cost = 0.5 * tf.reduce_sum(tf.pow(tf.subtract(self.reconstruction,self.x),2.0))\n",
    "        self.optimizer = optimizer.minimize(self.cost)\n",
    "\n",
    "        init = tf.global_variables_initializer()\n",
    "        self.sess = tf.Session()\n",
    "        self.sess.run(init)\n",
    "    \n",
    "    def _initialize_weights(self):\n",
    "        all_weights = {}\n",
    "        all_weights['w1'] = tf.get_variable('w1',shape=[self.n_input,self.n_hidden],\n",
    "                                            initializer=tf.contrib.layers.xavier_initializer())\n",
    "        all_weights['b1'] = tf.Variable(tf.constant(0.0, shape=[self.n_hidden]))\n",
    "\n",
    "        all_weights['w2'] = tf.get_variable('w2',shape=[self.n_hidden,self.n_input],\n",
    "                                            initializer=tf.contrib.layers.xavier_initializer())\n",
    "        all_weights['b2'] = tf.Variable(tf.constant(0.0, shape=[self.n_input]))\n",
    "        \n",
    "        return all_weights\n",
    "    \n",
    "    def partial_fit(self,X):\n",
    "        cost, opt = self.sess.run((self.cost, self.optimizer),\n",
    "                                 feed_dict = {self.x: X, self.scale: self.training_scale})\n",
    "        return cost\n",
    "\n",
    "    def calc_total_cost(self,X):\n",
    "        return self.sess.run(self.cost, \n",
    "                             feed_dict = {self.x: X, self.scale: self.training_scale})\n",
    "    \n",
    "    def transform(self,X):\n",
    "        return self.sess.run(self,hidden, \n",
    "                             feed_dict = {self.x: X, self.scale: self.training_scale})\n",
    "    def generate(self,hidden = None):\n",
    "        if isinstance(hidden,NoneType):\n",
    "            hidden = np.random.normal(size = self.weights['b1'])\n",
    "        return self.sess.run(self.reconstruction,\n",
    "                            feed_dict = {self.hidden: hidden})\n",
    "    def reconstruct(self,X):\n",
    "        return self.sess.run(self.reconstruction,\n",
    "                            feed_dict = {self.x: X, self.scale: self.training_scale})\n",
    "    \n",
    "    def getWeights(self):\n",
    "        return self.sess.run(self.weights['w1'])\n",
    "    \n",
    "    def getBiases(self):\n",
    "        return self.sess.run(self.weights['b1'])\n",
    "    "
   ]
  },
  {
   "cell_type": "code",
   "execution_count": 4,
   "metadata": {},
   "outputs": [
    {
     "name": "stdout",
     "output_type": "stream",
     "text": [
      "Extracting MNIST_data/train-images-idx3-ubyte.gz\n",
      "Extracting MNIST_data/train-labels-idx1-ubyte.gz\n",
      "Extracting MNIST_data/t10k-images-idx3-ubyte.gz\n",
      "Extracting MNIST_data/t10k-labels-idx1-ubyte.gz\n"
     ]
    }
   ],
   "source": [
    "mnist = input_data.read_data_sets(\"MNIST_data\", one_hot=True)"
   ]
  },
  {
   "cell_type": "code",
   "execution_count": 5,
   "metadata": {
    "collapsed": true
   },
   "outputs": [],
   "source": [
    "def standard_scale(X_train,X_test):\n",
    "    preprocessor = prep.StandardScaler().fit(X_train)\n",
    "    X_train = preprocessor.transform(X_train)\n",
    "    X_test = preprocessor.transform(X_test)\n",
    "    return X_train,X_test"
   ]
  },
  {
   "cell_type": "code",
   "execution_count": 6,
   "metadata": {
    "collapsed": true
   },
   "outputs": [],
   "source": [
    "def get_random_block_from_data(data,batch_size):\n",
    "    start_index = np.random.randint(0,len(data)-batch_size)\n",
    "    return data[start_index:(start_index+batch_size)]"
   ]
  },
  {
   "cell_type": "code",
   "execution_count": 7,
   "metadata": {
    "collapsed": true
   },
   "outputs": [],
   "source": [
    "X_train, X_test = standard_scale(mnist.train.images, mnist.test.images)\n",
    "n_samples = int(mnist.train.num_examples)\n",
    "training_epochs = 20\n",
    "batch_size = 128\n",
    "display_step = 1"
   ]
  },
  {
   "cell_type": "code",
   "execution_count": 8,
   "metadata": {},
   "outputs": [],
   "source": [
    "autoencoder = AdditiveGaussianNoiseAutoencoder(n_input = 784, n_hidden = 200,\n",
    "                                              transfer_function = tf.nn.softplus,\n",
    "                                              optimizer = tf.train.AdamOptimizer(.001),\n",
    "                                              scale = .01)"
   ]
  },
  {
   "cell_type": "code",
   "execution_count": 9,
   "metadata": {},
   "outputs": [
    {
     "name": "stdout",
     "output_type": "stream",
     "text": [
      "('Epoch:', '0001', 'cost = ', '24821.000206818')\n",
      "('Epoch:', '0002', 'cost = ', '13652.216509091')\n",
      "('Epoch:', '0003', 'cost = ', '11467.686970455')\n",
      "('Epoch:', '0004', 'cost = ', '10536.909668182')\n",
      "('Epoch:', '0005', 'cost = ', '9906.749840341')\n",
      "('Epoch:', '0006', 'cost = ', '9181.882810227')\n",
      "('Epoch:', '0007', 'cost = ', '8777.622546023')\n",
      "('Epoch:', '0008', 'cost = ', '9086.523168750')\n",
      "('Epoch:', '0009', 'cost = ', '8245.600673295')\n",
      "('Epoch:', '0010', 'cost = ', '8141.477089773')\n",
      "('Epoch:', '0011', 'cost = ', '8364.602891477')\n",
      "('Epoch:', '0012', 'cost = ', '7925.563444318')\n",
      "('Epoch:', '0013', 'cost = ', '8673.351383523')\n",
      "('Epoch:', '0014', 'cost = ', '7593.315647727')\n",
      "('Epoch:', '0015', 'cost = ', '8531.950359659')\n",
      "('Epoch:', '0016', 'cost = ', '8298.646916477')\n",
      "('Epoch:', '0017', 'cost = ', '8219.743362500')\n",
      "('Epoch:', '0018', 'cost = ', '8236.716220455')\n",
      "('Epoch:', '0019', 'cost = ', '7820.585081250')\n",
      "('Epoch:', '0020', 'cost = ', '7754.361401136')\n"
     ]
    }
   ],
   "source": [
    "for  epoch in range(training_epochs):\n",
    "    avg_cost = 0.\n",
    "    total_batch = int(n_samples / batch_size)\n",
    "    for i in range(total_batch):\n",
    "        batch_xs = get_random_block_from_data(X_train,batch_size)\n",
    "        \n",
    "        cost = autoencoder.partial_fit(batch_xs)\n",
    "        avg_cost += cost/n_samples*batch_size\n",
    "        \n",
    "    if epoch % display_step == 0:\n",
    "        print(\"Epoch:\",'%04d' % (epoch+1),\"cost = \",\"{:.9f}\".format(avg_cost))"
   ]
  },
  {
   "cell_type": "code",
   "execution_count": null,
   "metadata": {
    "collapsed": true
   },
   "outputs": [],
   "source": []
  }
 ],
 "metadata": {
  "kernelspec": {
   "display_name": "Python 2",
   "language": "python",
   "name": "python2"
  },
  "language_info": {
   "codemirror_mode": {
    "name": "ipython",
    "version": 2
   },
   "file_extension": ".py",
   "mimetype": "text/x-python",
   "name": "python",
   "nbconvert_exporter": "python",
   "pygments_lexer": "ipython2",
   "version": "2.7.12"
  }
 },
 "nbformat": 4,
 "nbformat_minor": 2
}
