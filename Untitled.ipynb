{
 "cells": [
  {
   "cell_type": "markdown",
   "metadata": {},
   "source": [
    "# Matplotlib"
   ]
  },
  {
   "cell_type": "code",
   "execution_count": 1,
   "metadata": {
    "collapsed": true
   },
   "outputs": [],
   "source": [
    "%matplotlib inline"
   ]
  },
  {
   "cell_type": "code",
   "execution_count": 23,
   "metadata": {},
   "outputs": [
    {
     "data": {
      "image/png": "[encoded data removed]",
      "text/plain": [
       "<matplotlib.figure.Figure at 0x7f1f6de192d0>"
      ]
     },
     "metadata": {},
     "output_type": "display_data"
    }
   ],
   "source": [
    "\"\"\"\n",
    "=========================================\n",
    "Demo of artist customization in box plots\n",
    "=========================================\n",
    "\n",
    "This example demonstrates how to use the various kwargs\n",
    "to fully customize box plots. The first figure demonstrates\n",
    "how to remove and add individual components (note that the\n",
    "mean is the only value not shown by default). The second\n",
    "figure demonstrates how the styles of the artists can\n",
    "be customized. It also demonstrates how to set the limit\n",
    "of the whiskers to specific percentiles (lower right axes)\n",
    "\n",
    "A good general reference on boxplots and their history can be found\n",
    "here: http://vita.had.co.nz/papers/boxplots.pdf\n",
    "\n",
    "\"\"\"\n",
    "\n",
    "import numpy as np\n",
    "import matplotlib.pyplot as plt\n",
    "\n",
    "# fake data\n",
    "np.random.seed(937)\n",
    "x = np.random.random(1000)\n",
    "y = [i**2+np.random.rand() for i in x]\n",
    "\n",
    "plt.hist2d(x,y,50)\n",
    "\n",
    "plt.show()\n"
   ]
  },
  {
   "cell_type": "code",
   "execution_count": null,
   "metadata": {
    "collapsed": true
   },
   "outputs": [],
   "source": []
  }
 ],
 "metadata": {
  "kernelspec": {
   "display_name": "Python 2",
   "language": "python",
   "name": "python2"
  },
  "language_info": {
   "codemirror_mode": {
    "name": "ipython",
    "version": 2
   },
   "file_extension": ".py",
   "mimetype": "text/x-python",
   "name": "python",
   "nbconvert_exporter": "python",
   "pygments_lexer": "ipython2",
   "version": "2.7.12"
  }
 },
 "nbformat": 4,
 "nbformat_minor": 2
}
