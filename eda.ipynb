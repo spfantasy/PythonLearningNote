{
 "cells": [
  {
   "cell_type": "code",
   "execution_count": 1,
   "metadata": {
    "collapsed": true
   },
   "outputs": [],
   "source": [
    "%matplotlib inline"
   ]
  },
  {
   "cell_type": "code",
   "execution_count": 35,
   "metadata": {
    "collapsed": true
   },
   "outputs": [],
   "source": [
    "import sys\n",
    "sys.path.append(\"..\")\n",
    "from function.core_dict import DictModel\n",
    "from function.utility import ProjectPath\n",
    "import matplotlib.pyplot as plt"
   ]
  },
  {
   "cell_type": "code",
   "execution_count": 3,
   "metadata": {
    "collapsed": true
   },
   "outputs": [],
   "source": [
    "UP_LIMIT = 1000"
   ]
  },
  {
   "cell_type": "markdown",
   "metadata": {
    "collapsed": true
   },
   "source": [
    "# mono-gram词频统计"
   ]
  },
  {
   "cell_type": "code",
   "execution_count": 27,
   "metadata": {
    "scrolled": false
   },
   "outputs": [
    {
     "name": "stdout",
     "output_type": "stream",
     "text": [
      "---- LoadFrom ----\n",
      "|| LoadFrom :     [0.01 s ]\n"
     ]
    }
   ],
   "source": [
    "word_freq = DictModel()\n",
    "word_freq.LoadFrom('times_0.json')"
   ]
  },
  {
   "cell_type": "code",
   "execution_count": 28,
   "metadata": {},
   "outputs": [],
   "source": [
    "items = word_freq.items()\n",
    "items.sort()\n",
    "\n",
    "x = [index for index,value in items if index<1000 and isinstance(index,int)]\n",
    "y = [value for index,value in items if index<1000 and isinstance(index,int)]"
   ]
  },
  {
   "cell_type": "code",
   "execution_count": 29,
   "metadata": {},
   "outputs": [
    {
     "data": {
      "text/plain": [
       "[<matplotlib.lines.Line2D at 0x7ff385e8fad0>]"
      ]
     },
     "execution_count": 29,
     "metadata": {},
     "output_type": "execute_result"
    },
    {
     "data": {
      "image/png": "[encoded data removed]",
      "text/plain": [
       "<matplotlib.figure.Figure at 0x7ff385dcc850>"
      ]
     },
     "metadata": {},
     "output_type": "display_data"
    }
   ],
   "source": [
    "fig = plt.figure()\n",
    "ay = fig.add_subplot(111)\n",
    "ay.set_yscale(\"log\")\n",
    "plt.plot(x,y)"
   ]
  },
  {
   "cell_type": "markdown",
   "metadata": {},
   "source": [
    "# bi-gram词频统计"
   ]
  },
  {
   "cell_type": "code",
   "execution_count": 30,
   "metadata": {},
   "outputs": [
    {
     "name": "stdout",
     "output_type": "stream",
     "text": [
      "---- LoadFrom ----\n",
      "|| LoadFrom :     [0.05 s ]\n"
     ]
    }
   ],
   "source": [
    "word_freq = DictModel()\n",
    "word_freq.LoadFrom('times_1.json')"
   ]
  },
  {
   "cell_type": "code",
   "execution_count": 31,
   "metadata": {},
   "outputs": [
    {
     "data": {
      "text/plain": [
       "[<matplotlib.lines.Line2D at 0x7ff385cf4d90>]"
      ]
     },
     "execution_count": 31,
     "metadata": {},
     "output_type": "execute_result"
    },
    {
     "data": {
      "image/png": "[encoded data removed]",
      "text/plain": [
       "<matplotlib.figure.Figure at 0x7ff385c6abd0>"
      ]
     },
     "metadata": {},
     "output_type": "display_data"
    }
   ],
   "source": [
    "items = word_freq.items()\n",
    "items.sort()\n",
    "\n",
    "x = [index for index,value in items if index<1000 and isinstance(index,int)]\n",
    "y = [value for index,value in items if index<1000 and isinstance(index,int)]\n",
    "\n",
    "fig = plt.figure()\n",
    "ay = fig.add_subplot(111)\n",
    "ay.set_yscale(\"log\")\n",
    "plt.plot(x,y)"
   ]
  },
  {
   "cell_type": "markdown",
   "metadata": {},
   "source": [
    "# 样本概率分布"
   ]
  },
  {
   "cell_type": "code",
   "execution_count": 157,
   "metadata": {},
   "outputs": [],
   "source": [
    "import os\n",
    "import pandas as pd\n",
    "import numpy as np\n",
    "from pandas import Series,DataFrame\n",
    "DataPath = os.path.join(ProjectPath(),'data')"
   ]
  },
  {
   "cell_type": "markdown",
   "metadata": {},
   "source": [
    "变量"
   ]
  },
  {
   "cell_type": "code",
   "execution_count": 158,
   "metadata": {
    "collapsed": true
   },
   "outputs": [],
   "source": [
    "all_data = []\n",
    "all_name = ['positive.csv','negative_1.csv','negative_2.csv']\n",
    "color_name = ['b','g','r']"
   ]
  },
  {
   "cell_type": "markdown",
   "metadata": {},
   "source": [
    "载入数据"
   ]
  },
  {
   "cell_type": "code",
   "execution_count": 159,
   "metadata": {
    "collapsed": true
   },
   "outputs": [],
   "source": [
    "for i in xrange(len(all_name)):\n",
    "    statistics = pd.read_csv(os.path.join(DataPath,all_name[i]),header=None)\n",
    "    statistics.columns = ['news','logP','words','missing']\n",
    "    all_data.append(statistics)"
   ]
  },
  {
   "cell_type": "markdown",
   "metadata": {},
   "source": [
    "根据正样本万分点设立阈值"
   ]
  },
  {
   "cell_type": "code",
   "execution_count": 160,
   "metadata": {
    "collapsed": true
   },
   "outputs": [],
   "source": [
    "thres_x = []\n",
    "thres_y = []\n",
    "for i in xrange(40):\n",
    "    positive_length_i = all_data[0].logP[all_data[0].words == i]\n",
    "    if positive_length_i.shape[0]< 1000:\n",
    "        continue\n",
    "    else:\n",
    "        thres_x.append(i)\n",
    "        thres_y += list(positive_length_i.describe([0.0001])['0.01%':'0.01%'])\n",
    "\n",
    "w,b = np.polyfit(thres_x,thres_y,1)\n",
    "thres_x = []\n",
    "thres_y = []\n",
    "for i in xrange(2,40):\n",
    "    thres_x.append(i)\n",
    "    thres_y.append(w*i+b)"
   ]
  },
  {
   "cell_type": "markdown",
   "metadata": {},
   "source": [
    "生成图片并保存"
   ]
  },
  {
   "cell_type": "code",
   "execution_count": 179,
   "metadata": {},
   "outputs": [
    {
     "data": {
      "image/png": "[encoded data removed]",
      "text/plain": [
       "<matplotlib.figure.Figure at 0x7ff37b7f7cd0>"
      ]
     },
     "metadata": {},
     "output_type": "display_data"
    }
   ],
   "source": [
    "ax = plt.subplot(1,1,1)\n",
    "for i,color in enumerate(color_name):\n",
    "    ax.scatter(all_data[i].words+0.2*i,all_data[i].logP,c = color,s = 1, label=all_name[i].encode('utf-8')[:-3])\n",
    "ax.plot(thres_x,thres_y,c = 'm', label= 'threshold')\n",
    "handles, labels = ax.get_legend_handles_labels()\n",
    "ax.legend(handles[::-1], labels[::-1])\n",
    "plt.savefig(\"threshold.png\") \n",
    "plt.show()"
   ]
  },
  {
   "cell_type": "code",
   "execution_count": 180,
   "metadata": {},
   "outputs": [
    {
     "name": "stdout",
     "output_type": "stream",
     "text": [
      "[-2.5864151209658113, -0.97022889343827634]\n"
     ]
    }
   ],
   "source": [
    "print([w,b])"
   ]
  }
 ],
 "metadata": {
  "kernelspec": {
   "display_name": "Python 2",
   "language": "python",
   "name": "python2"
  },
  "language_info": {
   "codemirror_mode": {
    "name": "ipython",
    "version": 2
   },
   "file_extension": ".py",
   "mimetype": "text/x-python",
   "name": "python",
   "nbconvert_exporter": "python",
   "pygments_lexer": "ipython2",
   "version": "2.7.12"
  }
 },
 "nbformat": 4,
 "nbformat_minor": 2
}
